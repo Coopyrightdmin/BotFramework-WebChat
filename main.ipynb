{
  "nbformat": 4,
  "nbformat_minor": 0,
  "metadata": {
    "colab": {
      "name": "main.ipynb",
      "version": "0.3.2",
      "provenance": [],
      "collapsed_sections": [],
      "include_colab_link": true
    },
    "kernelspec": {
      "name": "python3",
      "display_name": "Python 3"
    }
  },
  "cells": [
    {
      "cell_type": "markdown",
      "metadata": {
        "id": "view-in-github",
        "colab_type": "text"
      },
      "source": [
        "<a href=\"https://colab.research.google.com/github/Coopyrightdmin/BotFramework-WebChat/blob/master/main.ipynb\" target=\"_parent\"><img src=\"https://colab.research.google.com/assets/colab-badge.svg\" alt=\"Open In Colab\"/></a>"
      ]
    },
    {
      "metadata": {
        "colab_type": "code",
        "id": "q_sBB2ZAcs5v",
        "colab": {}
      },
      "cell_type": "code",
      "source": [
        "# Courbe de Von Koch\n",
        "from math import *\n",
        "import matplotlib.pyplot as plt\n",
        "\n",
        "width=height=300\n",
        "borderX=20\n",
        "borderY=height-20\n",
        "A=(borderX,borderY)\n",
        "B=(width-borderX,borderY)\n",
        "\n",
        "fig = plt.figure()\n",
        "axes = fig.add_subplot(1, 1, 1) \n",
        "axes.set_xlim(0, width)\n",
        "axes.set_ylim(0, height)\n",
        "\n",
        "n=3\n",
        "rd60=-pi/3.0\n",
        "\n",
        "# Linear Operations\n",
        "def vadd(p,q): \n",
        "  return (p[0]+q[0],p[1]+q[1])\n",
        "def vsub(p,q): \n",
        "  return (p[0]-q[0],p[1]-q[1])\n",
        "def smul(s,p):\n",
        "  return (s*p[0],s*p[1])\n",
        "\n",
        "def rot(p,ang):\n",
        "  cs=cos(ang)\n",
        "  sn=sin(ang)\n",
        "  return (p[0]*cs-p[1]*sn,p[0]*sn+p[1]*cs)\n",
        "\n",
        "def rotabout(p,ang,z):\n",
        "  return vadd(z,rot(vsub(p,z),ang))\n",
        "\n",
        "# Van Koch\n",
        "def koch(p0,p1,n):\n",
        "  if n==0:\n",
        "    axes.plot((p0[0], p1[0]),(p0[1], p1[1]))\n",
        "  else:\n",
        "    n1=n-1\n",
        "    seg=smul(1.0/3.0,vsub(p1,p0))\n",
        "    p2=vadd(p0, seg)\n",
        "    p4=vadd(p2,seg)\n",
        "    p3=rotabout(p4,rd60,p2)    \n",
        "    koch(p0,p2,n1)\n",
        "    koch(p2,p3,n1)\n",
        "    koch(p3,p4,n1)\n",
        "    koch(p4,p1,n1)\n",
        "\n",
        "# Interface\n",
        "koch(A,B,n)\n",
        "plt.show()"
      ],
      "execution_count": 0,
      "outputs": []
    },
    {
      "metadata": {
        "id": "08IIxsZtcu6b",
        "colab_type": "text"
      },
      "cell_type": "markdown",
      "source": [
        "#Van Koch Curve"
      ]
    }
  ]
}